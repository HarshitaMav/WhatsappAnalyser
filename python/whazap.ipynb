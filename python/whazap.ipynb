{
 "cells": [
  {
   "cell_type": "code",
   "execution_count": 1,
   "metadata": {},
   "outputs": [],
   "source": [
    "import re\n",
    "import pandas\n",
    "import matplotlib.pyplot as plt\n",
    "import calendar"
   ]
  },
  {
   "cell_type": "code",
   "execution_count": 2,
   "metadata": {},
   "outputs": [],
   "source": [
    "def findMostUsedWord():\n",
    "    d = {}\n",
    "    for i in words_list:\n",
    "        if i in d.keys():\n",
    "            d[i] = d[i] + 1\n",
    "        elif i.isalpha():\n",
    "            d[i] = 1\n",
    "    max = 0\n",
    "    key = ''\n",
    "    for k, v in d.items():\n",
    "        if v > max:\n",
    "            max = v\n",
    "            key = k\n",
    "    return key.capitalize(), max\n",
    "\n",
    "def findTopFiveUsers():\n",
    "    d = []\n",
    "    for i in df_user.iterrows():\n",
    "        d.append([i[1][0], i[0]])\n",
    "    d.sort(reverse=True)\n",
    "    top5_names = []\n",
    "    top5_no_of_msgs = []\n",
    "    c = 0\n",
    "    for i in d:\n",
    "        if i[1] != 'N/A':\n",
    "            top5_no_of_msgs.append(i[0])\n",
    "            top5_names.append(i[1])\n",
    "            c += 1\n",
    "        if c == 5: break\n",
    "    return top5_no_of_msgs,top5_names\n"
   ]
  },
  {
   "cell_type": "code",
   "execution_count": 3,
   "metadata": {},
   "outputs": [],
   "source": [
    "# Here ex2 file contains our whatsapp Chat Data\n",
    "f = open('ex3.txt', encoding='utf8')\n",
    "l = []\n",
    "ind = -1\n",
    "for i in f:\n",
    "    s = i.rstrip('\\n')\n",
    "    r = re.match(r'[\\d]{1,2}/[\\d]{2}/[\\d]{2}, [\\d]{1,2}:[\\d]{2}', s)\n",
    "    if r:\n",
    "        l.append(s)\n",
    "        ind = ind + 1\n",
    "    else:\n",
    "        l[ind] = l[ind] + s\n",
    "\n",
    "f.close()\n"
   ]
  },
  {
   "cell_type": "code",
   "execution_count": 4,
   "metadata": {},
   "outputs": [],
   "source": [
    "data = []\n",
    "words_list = []\n",
    "day_names = ['Monday', 'Tuesday', 'Wednesday', 'Thursday', 'Friday', 'Saturday', 'Sunday']\n",
    "month_names = ['January', 'February', 'March', 'April', 'May', 'June', 'July', 'August', 'September', 'October',\n",
    "               'November', 'December']\n",
    "for i in l:\n",
    "    a = i.strip().split(',')\n",
    "    a1 = a[0]\n",
    "    a2, a3, a4 = a[0].strip().split('/')\n",
    "    a5 = day_names[calendar.weekday(int(a4), int(a3), int(a2))]\n",
    "    a6 = a[1].strip().split('-')\n",
    "    a7= a6[0].split(':')[0]\n",
    "    c = a6[1].split(':')\n",
    "    a8 = ''\n",
    "    a9 = ''\n",
    "    if len(c) >= 2 and 'changed' not in c[0]:\n",
    "        a8 = c[0].strip()\n",
    "        a9 = c[1]\n",
    "    else:\n",
    "        a8 = 'N/A'\n",
    "        a9 = c[0]\n",
    "    r = re.split(r'\\W+', a9.lower())\n",
    "    words_list.extend(r)\n",
    "    a10 = len(a9)\n",
    "    data.append([a1, a2, month_names[int(a3) - 1], '20' + a4, a5, a6[0], a7, a8, a9, a10])"
   ]
  },
  {
   "cell_type": "code",
   "execution_count": 5,
   "metadata": {
    "scrolled": true
   },
   "outputs": [
    {
     "name": "stdout",
     "output_type": "stream",
     "text": [
      "          Date Day      Month  Year  Day_Name       Time Time_H  \\\n",
      "0     27/09/19  27  September  2019    Friday  11:43 pm      11   \n",
      "1     27/09/19  27  September  2019    Friday  11:43 pm      11   \n",
      "2     27/09/19  27  September  2019    Friday  11:43 pm      11   \n",
      "3     27/09/19  27  September  2019    Friday  11:43 pm      11   \n",
      "4     27/09/19  27  September  2019    Friday  11:43 pm      11   \n",
      "5     28/09/19  28  September  2019  Saturday   2:00 pm       2   \n",
      "6     28/09/19  28  September  2019  Saturday   2:04 pm       2   \n",
      "7     28/09/19  28  September  2019  Saturday   2:04 pm       2   \n",
      "8     28/09/19  28  September  2019  Saturday   2:05 pm       2   \n",
      "9     28/09/19  28  September  2019  Saturday   2:05 pm       2   \n",
      "10    28/09/19  28  September  2019  Saturday   2:06 pm       2   \n",
      "11    28/09/19  28  September  2019  Saturday   2:07 pm       2   \n",
      "12    28/09/19  28  September  2019  Saturday   2:07 pm       2   \n",
      "13    28/09/19  28  September  2019  Saturday   2:07 pm       2   \n",
      "14    01/10/19  01    October  2019   Tuesday   7:39 am       7   \n",
      "15    01/10/19  01    October  2019   Tuesday   7:40 am       7   \n",
      "16    01/10/19  01    October  2019   Tuesday   7:56 am       7   \n",
      "17    01/10/19  01    October  2019   Tuesday   7:56 am       7   \n",
      "18    01/10/19  01    October  2019   Tuesday   8:02 am       8   \n",
      "19    01/10/19  01    October  2019   Tuesday   8:03 am       8   \n",
      "20    01/10/19  01    October  2019   Tuesday   7:53 pm       7   \n",
      "21    01/10/19  01    October  2019   Tuesday   7:53 pm       7   \n",
      "22    01/10/19  01    October  2019   Tuesday   7:54 pm       7   \n",
      "23    01/10/19  01    October  2019   Tuesday   7:54 pm       7   \n",
      "24    01/10/19  01    October  2019   Tuesday   7:54 pm       7   \n",
      "25    01/10/19  01    October  2019   Tuesday   7:54 pm       7   \n",
      "26    01/10/19  01    October  2019   Tuesday   7:54 pm       7   \n",
      "27    01/10/19  01    October  2019   Tuesday   9:04 pm       9   \n",
      "28    01/10/19  01    October  2019   Tuesday   9:04 pm       9   \n",
      "29    01/10/19  01    October  2019   Tuesday   9:04 pm       9   \n",
      "...        ...  ..        ...   ...       ...        ...    ...   \n",
      "5824  19/07/20  19       July  2020    Sunday   4:14 pm       4   \n",
      "5825  19/07/20  19       July  2020    Sunday   4:14 pm       4   \n",
      "5826  19/07/20  19       July  2020    Sunday   4:14 pm       4   \n",
      "5827  19/07/20  19       July  2020    Sunday   5:40 pm       5   \n",
      "5828  19/07/20  19       July  2020    Sunday   5:40 pm       5   \n",
      "5829  19/07/20  19       July  2020    Sunday   5:40 pm       5   \n",
      "5830  19/07/20  19       July  2020    Sunday   5:42 pm       5   \n",
      "5831  19/07/20  19       July  2020    Sunday   5:50 pm       5   \n",
      "5832  19/07/20  19       July  2020    Sunday   5:50 pm       5   \n",
      "5833  19/07/20  19       July  2020    Sunday   5:51 pm       5   \n",
      "5834  19/07/20  19       July  2020    Sunday   5:51 pm       5   \n",
      "5835  19/07/20  19       July  2020    Sunday   5:51 pm       5   \n",
      "5836  19/07/20  19       July  2020    Sunday   5:51 pm       5   \n",
      "5837  19/07/20  19       July  2020    Sunday   5:51 pm       5   \n",
      "5838  19/07/20  19       July  2020    Sunday   5:51 pm       5   \n",
      "5839  19/07/20  19       July  2020    Sunday   5:51 pm       5   \n",
      "5840  19/07/20  19       July  2020    Sunday   5:51 pm       5   \n",
      "5841  19/07/20  19       July  2020    Sunday   5:51 pm       5   \n",
      "5842  19/07/20  19       July  2020    Sunday   5:52 pm       5   \n",
      "5843  19/07/20  19       July  2020    Sunday   5:52 pm       5   \n",
      "5844  19/07/20  19       July  2020    Sunday   5:57 pm       5   \n",
      "5845  19/07/20  19       July  2020    Sunday   5:57 pm       5   \n",
      "5846  20/07/20  20       July  2020    Monday  10:42 am      10   \n",
      "5847  20/07/20  20       July  2020    Monday  10:42 am      10   \n",
      "5848  20/07/20  20       July  2020    Monday  10:42 am      10   \n",
      "5849  20/07/20  20       July  2020    Monday  10:42 am      10   \n",
      "5850  20/07/20  20       July  2020    Monday  10:42 am      10   \n",
      "5851  20/07/20  20       July  2020    Monday  10:43 am      10   \n",
      "5852  20/07/20  20       July  2020    Monday  10:43 am      10   \n",
      "5853  20/07/20  20       July  2020    Monday  10:52 am      10   \n",
      "\n",
      "                 User                                           Message  \\\n",
      "0                 N/A   Messages to this group are now secured with end   \n",
      "1                 N/A        Saloni Patadia created group \"2nd October\"   \n",
      "2                 N/A                          Saloni Patadia added you   \n",
      "3      Saloni Patadia                                           Andheri   \n",
      "4     Srinath Nanduri                         Pakka 2nd ko de rahe hai?   \n",
      "5     Srinath Nanduri                               Andheri Mai kidhar?   \n",
      "6        Harshita Mav                            Ghatkopar rakhte he na   \n",
      "7     Srinath Nanduri          Udhar kcuh hai nahi accha khaane ke liye   \n",
      "8     Srinath Nanduri             Cmon re motabenGhatkopar is for masti   \n",
      "9     Srinath Nanduri                   For bday dinner Western is best   \n",
      "10     Saloni Patadia                                            im out   \n",
      "11    Srinath Nanduri                                 Andheri ok hai na   \n",
      "12     Saloni Patadia                                                ha   \n",
      "13    Srinath Nanduri                                              🤘🏻👍🏻   \n",
      "14    Srinath Nanduri                               Kal 2ns October hai   \n",
      "15    Srinath Nanduri                            Restro toh decide karo   \n",
      "16     Saloni Patadia                                       Aaj karte h   \n",
      "17     Saloni Patadia                                        Class main   \n",
      "18    Srinath Nanduri                                               Okk   \n",
      "19     Saloni Patadia                                                👍🏻   \n",
      "20     Saloni Patadia                                              Guys   \n",
      "21     Saloni Patadia                             Restro decide karna h   \n",
      "22    Srinath Nanduri                                                Ya   \n",
      "23    Srinath Nanduri                                               Oey   \n",
      "24    Srinath Nanduri                                      Suggest some   \n",
      "25    Srinath Nanduri                       We don't know any good ones   \n",
      "26    Srinath Nanduri                                  Only u know them   \n",
      "27    Srinath Nanduri                                   <Media omitted>   \n",
      "28    Srinath Nanduri                                   <Media omitted>   \n",
      "29    Srinath Nanduri                                   <Media omitted>   \n",
      "...               ...                                               ...   \n",
      "5824   Saloni Patadia                                                Na   \n",
      "5825   Saloni Patadia                                             Saalo   \n",
      "5826  Srinath Nanduri                                         Aagaye na   \n",
      "5827  Srinath Nanduri                                              Guys   \n",
      "5828  Srinath Nanduri                                    Dono kaha gaye   \n",
      "5829  Srinath Nanduri                           Meeting khatam kardiya?   \n",
      "5830  Srinath Nanduri                       Sry I was sleeping last mai   \n",
      "5831     Harshita Mav                                              Wat😂   \n",
      "5832     Harshita Mav                                         Haa kabka   \n",
      "5833  Srinath Nanduri                                         🤦🏻‍♂️😂lol   \n",
      "5834  Srinath Nanduri                    Last Mai kuch imp decide Kiya?   \n",
      "5835     Harshita Mav                                   But tu so gaya😂   \n",
      "5836     Harshita Mav                                                👊🏻   \n",
      "5837     Harshita Mav                                           Nhi nhi   \n",
      "5838  Srinath Nanduri                                               Haa   \n",
      "5839  Srinath Nanduri                                         Acha kewl   \n",
      "5840     Harshita Mav                                               Yes   \n",
      "5841  Srinath Nanduri                                              Nice   \n",
      "5842  Srinath Nanduri                                                Gn   \n",
      "5843  Srinath Nanduri                                                👋🏻   \n",
      "5844     Harshita Mav                                                Gn   \n",
      "5845  Srinath Nanduri                                               Yup   \n",
      "5846  Srinath Nanduri                                    Bhaiilooooog🔥🔥   \n",
      "5847  Srinath Nanduri                                             Voh 8   \n",
      "5848  Srinath Nanduri                                        Voh hogaya   \n",
      "5849  Srinath Nanduri                                              Wait   \n",
      "5850  Srinath Nanduri                                        Lemme show   \n",
      "5851  Srinath Nanduri                                   <Media omitted>   \n",
      "5852  Srinath Nanduri                                          Ye dekho   \n",
      "5853  Srinath Nanduri                              Dono apna mail dekho   \n",
      "\n",
      "      MessageSize  \n",
      "0              48  \n",
      "1              43  \n",
      "2              25  \n",
      "3               8  \n",
      "4              26  \n",
      "5              20  \n",
      "6              23  \n",
      "7              41  \n",
      "8              38  \n",
      "9              32  \n",
      "10              7  \n",
      "11             18  \n",
      "12              3  \n",
      "13              5  \n",
      "14             20  \n",
      "15             23  \n",
      "16             12  \n",
      "17             11  \n",
      "18              4  \n",
      "19              3  \n",
      "20              5  \n",
      "21             22  \n",
      "22              3  \n",
      "23              4  \n",
      "24             13  \n",
      "25             28  \n",
      "26             17  \n",
      "27             16  \n",
      "28             16  \n",
      "29             16  \n",
      "...           ...  \n",
      "5824            3  \n",
      "5825            6  \n",
      "5826           10  \n",
      "5827            5  \n",
      "5828           15  \n",
      "5829           24  \n",
      "5830           28  \n",
      "5831            5  \n",
      "5832           10  \n",
      "5833           10  \n",
      "5834           31  \n",
      "5835           16  \n",
      "5836            3  \n",
      "5837            8  \n",
      "5838            4  \n",
      "5839           10  \n",
      "5840            4  \n",
      "5841            5  \n",
      "5842            3  \n",
      "5843            3  \n",
      "5844            3  \n",
      "5845            4  \n",
      "5846           15  \n",
      "5847            6  \n",
      "5848           11  \n",
      "5849            5  \n",
      "5850           11  \n",
      "5851           16  \n",
      "5852            9  \n",
      "5853           21  \n",
      "\n",
      "[5854 rows x 10 columns]\n"
     ]
    }
   ],
   "source": [
    "df = pandas.DataFrame(data,\n",
    "                      columns=['Date', 'Day', 'Month', 'Year', 'Day_Name', 'Time', 'Time_H', 'User', 'Message',\n",
    "                               'MessageSize'])\n",
    "print(df)"
   ]
  },
  {
   "cell_type": "code",
   "execution_count": 6,
   "metadata": {},
   "outputs": [
    {
     "data": {
      "image/png": "[encoded data removed]",
      "text/plain": [
       "<Figure size 432x288 with 1 Axes>"
      ]
     },
     "metadata": {
      "needs_background": "light"
     },
     "output_type": "display_data"
    }
   ],
   "source": [
    "df_user = df.groupby(['User']).count()\n",
    "#fig, ax = plt.subplots()\n",
    "df_user.plot.bar(y='Message', title='Number of Messages by Each User')\n",
    "\n",
    "#plt.show()\n",
    "#fig.savefig('my_plot.png')\n",
    "plt.savefig('first.png')"
   ]
  },
  {
   "cell_type": "code",
   "execution_count": 7,
   "metadata": {},
   "outputs": [
    {
     "data": {
      "image/png": "[encoded data removed]",
      "text/plain": [
       "<Figure size 432x288 with 1 Axes>"
      ]
     },
     "metadata": {
      "needs_background": "light"
     },
     "output_type": "display_data"
    }
   ],
   "source": [
    "df_month = df.groupby(['Month']).count()\n",
    "df_month.plot.bar(y='Message', title='Number of Messages in each Month')\n",
    "#plt.show()\n",
    "plt.savefig('second.png')"
   ]
  },
  {
   "cell_type": "code",
   "execution_count": 8,
   "metadata": {},
   "outputs": [
    {
     "data": {
      "image/png": "[encoded data removed]",
      "text/plain": [
       "<Figure size 432x288 with 1 Axes>"
      ]
     },
     "metadata": {
      "needs_background": "light"
     },
     "output_type": "display_data"
    }
   ],
   "source": [
    "df_timeh = df.groupby(['Time_H']).count()\n",
    "df_timeh.plot.bar(y='Message', title='Number of Messages in each Hour')\n",
    "#plt.show()\n",
    "plt.savefig('third.png')"
   ]
  },
  {
   "cell_type": "code",
   "execution_count": 9,
   "metadata": {},
   "outputs": [
    {
     "data": {
      "image/png": "[encoded data removed]",
      "text/plain": [
       "<Figure size 432x288 with 1 Axes>"
      ]
     },
     "metadata": {
      "needs_background": "light"
     },
     "output_type": "display_data"
    }
   ],
   "source": [
    "df_year = df.groupby(['Year']).count()\n",
    "df_year.plot.bar(y='Message', title='Number of Messages in each Year')\n",
    "#plt.show()\n",
    "plt.savefig('fourth.png')"
   ]
  },
  {
   "cell_type": "code",
   "execution_count": 10,
   "metadata": {},
   "outputs": [
    {
     "data": {
      "image/png": "[encoded data removed]",
      "text/plain": [
       "<Figure size 432x288 with 1 Axes>"
      ]
     },
     "metadata": {
      "needs_background": "light"
     },
     "output_type": "display_data"
    }
   ],
   "source": [
    "df_dayname = df.groupby(['Day_Name']).count()\n",
    "df_dayname.plot.barh(y='Message', title='Number of Messages according to day_wise ')\n",
    "#plt.show()\n",
    "plt.savefig('fifth.png')"
   ]
  },
  {
   "cell_type": "code",
   "execution_count": 11,
   "metadata": {},
   "outputs": [
    {
     "name": "stdout",
     "output_type": "stream",
     "text": [
      "Longest Message is: 237 characters\n",
      "Media has been sent 425 times.\n"
     ]
    }
   ],
   "source": [
    "print('Longest Message is:', df['MessageSize'].max(), 'characters')\n",
    "muw, muwt = findMostUsedWord()\n",
    "if muw==\"Media\":\n",
    "    print('Media has been sent '+ str(muwt) +' times.')\n",
    "else:\n",
    "    print('The Most Used Word is:' + muw + '-> used ' + str(muwt) + ' times')"
   ]
  },
  {
   "cell_type": "code",
   "execution_count": 12,
   "metadata": {},
   "outputs": [
    {
     "data": {
      "image/png": "[encoded data removed]",
      "text/plain": [
       "<Figure size 432x288 with 1 Axes>"
      ]
     },
     "metadata": {},
     "output_type": "display_data"
    }
   ],
   "source": [
    "# for top 5 users\n",
    "top5=findTopFiveUsers()\n",
    "plt.pie(top5[0], labels=top5[1])\n",
    "plt.title('Top 5 Users')\n",
    "#plt.show()\n",
    "plt.savefig('sixth.png')"
   ]
  },
  {
   "cell_type": "code",
   "execution_count": 13,
   "metadata": {},
   "outputs": [],
   "source": [
    "df.to_csv('chats.csv')"
   ]
  },
  {
   "cell_type": "code",
   "execution_count": null,
   "metadata": {},
   "outputs": [],
   "source": []
  },
  {
   "cell_type": "code",
   "execution_count": null,
   "metadata": {},
   "outputs": [],
   "source": []
  }
 ],
 "metadata": {
  "kernelspec": {
   "display_name": "Python 3",
   "language": "python",
   "name": "python3"
  },
  "language_info": {
   "codemirror_mode": {
    "name": "ipython",
    "version": 3
   },
   "file_extension": ".py",
   "mimetype": "text/x-python",
   "name": "python",
   "nbconvert_exporter": "python",
   "pygments_lexer": "ipython3",
   "version": "3.7.1"
  }
 },
 "nbformat": 4,
 "nbformat_minor": 2
}
